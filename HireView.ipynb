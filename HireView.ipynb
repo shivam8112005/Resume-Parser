{
 "cells": [
  {
   "cell_type": "code",
   "execution_count": 2,
   "metadata": {},
   "outputs": [],
   "source": [
    "from pandas import *\n",
    "from numpy import *\n",
    "from matplotlib.pyplot import *\n",
    "from PyPDF2 import *"
   ]
  },
  {
   "cell_type": "code",
   "execution_count": 1,
   "metadata": {},
   "outputs": [],
   "source": [
    "def scan():\n",
    "    while True:\n",
    "        print(\"Enter 1 to read pdf file\")\n",
    "        print(\"Enter 2 to read word file\")\n",
    "        print(\"Enter 4 to exit\")\n",
    "        choice=int(input(\"Enter your choice - \"))\n",
    "        match choice:\n",
    "            case 1:\n",
    "                scan_pdf()\n",
    "                break\n",
    "            case 2:\n",
    "                pass\n",
    "            case 4:\n",
    "                break\n",
    "            case _:\n",
    "                print(\"Value not found\")\n",
    "def scan_pdf():\n",
    "    pdf_file_path = \"example.pdf\"\n",
    "    file_path=input(\"Enter File Path - \")\n",
    "    reader = PdfReader(file_path)\n",
    "    text = \"\"\n",
    "    for page in reader.pages:\n",
    "        text += page.extract_text()\n",
    "    lines=text.splitlines()\n",
    "    # print(text)\n",
    "    name=lines[0]\n",
    "    mail=\"\"\n",
    "    numb=\"\"\n",
    "    special_characters = \"@!#$%&'*+/=?^_`{|}~.-\"\n",
    "    for line in lines:\n",
    "        if \"+91\" in line:\n",
    "            ind=line.index(\"+91\")\n",
    "            for char in range(ind+3,len(line)):\n",
    "                if line[char].isdigit():\n",
    "                    numb+=line[char]\n",
    "                if len(numb)==10:\n",
    "                    break\n",
    "        if \"mail.com\" in line:\n",
    "            ind=line.index(\"mail.com\")\n",
    "            left=right=ind\n",
    "            # print(line)\n",
    "            \n",
    "            while line[left]!=\" \":\n",
    "                if line[left] not in special_characters and not line[left].isalnum():\n",
    "                    # print(line[left])\n",
    "                    break\n",
    "                left=left-1\n",
    "            while line[right]!=\" \":\n",
    "                if line[right] not in special_characters and not line[right].isalnum():\n",
    "                    break\n",
    "                right=right+1\n",
    "            mail=line[left:right+1]\n",
    "            if mail.startswith(\"⌢pe\"):\n",
    "                mail=mail[3:]\n",
    "        if \"linkedin.com\" in line:\n",
    "            end=ind=line.index(\"linkedin.com\")\n",
    "            for index in range(ind,len(line)):\n",
    "                if line[index]==\" \":\n",
    "                    break \n",
    "                end+=1\n",
    "            linkedin=line[ind:end+1]\n",
    "        if \"github.com\" in line:\n",
    "            end=ind=line.index(\"github.com\")\n",
    "            for index in range(ind,len(line)):\n",
    "                if line[index]==\" \":\n",
    "                    break\n",
    "                end+=1\n",
    "            github=line[ind:end+1]\n",
    "    print(name,numb,linkedin,github)"
   ]
  },
  {
   "cell_type": "code",
   "execution_count": 3,
   "metadata": {},
   "outputs": [
    {
     "name": "stdout",
     "output_type": "stream",
     "text": [
      "Welcome to Hire View\n",
      "Enter 1 to scan resume\n",
      "Enter 2 to see applicants\n",
      "Enter 3 to exit\n",
      "Enter 1 to read pdf file\n",
      "Enter 2 to read word file\n",
      "Enter 4 to exit\n",
      "Satvik Parihar 9636092499 linkedin.com/in/satvik-parihar  github.com/Ichigo-wiz\n"
     ]
    }
   ],
   "source": [
    "print(\"Welcome to Hire View\")\n",
    "while True:\n",
    "    print(\"Enter 1 to scan resume\")\n",
    "    print(\"Enter 2 to see applicants\")\n",
    "    print(\"Enter 3 to exit\")\n",
    "    choice=int(input(\"Enter your choice - \"))\n",
    "    match choice:\n",
    "        case 1:\n",
    "            scan()\n",
    "            break\n",
    "        case 2:\n",
    "            pass\n",
    "        case 3:\n",
    "            break\n",
    "        case _:\n",
    "            print(\"Value not found\")\n",
    "# C:\\\\Users\\\\Shivam\\\\Downloads\\\\Satvik's Resume.pdf"
   ]
  }
 ],
 "metadata": {
  "kernelspec": {
   "display_name": "Python 3",
   "language": "python",
   "name": "python3"
  },
  "language_info": {
   "codemirror_mode": {
    "name": "ipython",
    "version": 3
   },
   "file_extension": ".py",
   "mimetype": "text/x-python",
   "name": "python",
   "nbconvert_exporter": "python",
   "pygments_lexer": "ipython3",
   "version": "3.11.5"
  }
 },
 "nbformat": 4,
 "nbformat_minor": 2
}
